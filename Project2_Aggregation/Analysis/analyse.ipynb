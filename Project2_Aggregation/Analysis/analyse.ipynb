{
 "cells": [
  {
   "cell_type": "code",
   "execution_count": null,
   "id": "4bb115ef-2d7e-4460-bfbb-3b5ce1bec0ad",
   "metadata": {},
   "outputs": [],
   "source": [
    "import pandas as pd\n",
    "import seaborn as sns\n",
    "import matplotlib.pyplot as plt\n",
    "\n",
    "# 加载数据，跳过第一行\n",
    "data = pd.read_csv('review.csv')\n",
    "# 取出B-K列\n",
    "data = data.iloc[:, 1:11]  # 注意，Python的索引是从0开始的，所以B列是列1，K列是列10\n",
    "\n",
    "# 计算皮尔森相关系数\n",
    "pearson_corr = data.corr()\n",
    "\n",
    "# 使用seaborn的heatmap函数绘制相关系数矩阵的热力图\n",
    "plt.figure(figsize=(10, 8))\n",
    "sns.heatmap(pearson_corr, annot=True, cmap='RdBu_r', center=0)\n",
    "plt.show()"
   ]
  },
  {
   "cell_type": "code",
   "execution_count": null,
   "id": "a45e12d9-ad14-46b8-b357-9f7ac11ae6e0",
   "metadata": {},
   "outputs": [],
   "source": [
    "# 假设你的数据存储在data中\n",
    "# data = pd.read_csv('your_data.csv')\n",
    "\n",
    "# 创建一个新的figure，并设置其大小\n",
    "plt.figure(figsize=(20, 15))\n",
    "\n",
    "# 对每个变量进行循环\n",
    "for i, column in enumerate(data.columns, 1):\n",
    "    # 创建一个新的subplot\n",
    "    plt.subplot(4, 3, i)\n",
    "    # 绘制直方图\n",
    "    sns.histplot(data[column])\n",
    "    # 添加标题，显示变量名和方差\n",
    "    plt.title(f'{column} - Variance: {data[column].var()}')\n",
    "\n",
    "# 调整子图之间的间距\n",
    "plt.tight_layout()\n",
    "\n",
    "# 显示图形\n",
    "plt.show()"
   ]
  },
  {
   "cell_type": "code",
   "execution_count": null,
   "id": "fab6e61a-e398-4509-8b53-ea4a0398145b",
   "metadata": {},
   "outputs": [],
   "source": [
    "\n",
    "# 计算每个变量的偏度和峰度\n",
    "skewness = data.skew()\n",
    "kurtosis = data.kurt()\n",
    "\n",
    "# 创建一个新的figure，并设置其大小\n",
    "plt.figure(figsize=(20, 10))\n",
    "\n",
    "# 绘制偏度的柱状图\n",
    "plt.subplot(2, 1, 1)\n",
    "skewness.plot(kind='bar')\n",
    "plt.title('Skewness')\n",
    "\n",
    "# 绘制峰度的柱状图\n",
    "plt.subplot(2, 1, 2)\n",
    "kurtosis.plot(kind='bar')\n",
    "plt.title('Kurtosis')\n",
    "\n",
    "# 显示图形\n",
    "plt.show()"
   ]
  },
  {
   "cell_type": "code",
   "execution_count": null,
   "id": "55388e28-da5c-4606-8b7e-37db3cae6402",
   "metadata": {},
   "outputs": [],
   "source": []
  }
 ],
 "metadata": {
  "kernelspec": {
   "display_name": "Python 3 (ipykernel)",
   "language": "python",
   "name": "python3"
  },
  "language_info": {
   "codemirror_mode": {
    "name": "ipython",
    "version": 3
   },
   "file_extension": ".py",
   "mimetype": "text/x-python",
   "name": "python",
   "nbconvert_exporter": "python",
   "pygments_lexer": "ipython3",
   "version": "3.8.18"
  }
 },
 "nbformat": 4,
 "nbformat_minor": 5
}
